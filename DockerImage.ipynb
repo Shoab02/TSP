{
 "cells": [
  {
   "cell_type": "code",
   "execution_count": 17,
   "metadata": {},
   "outputs": [
    {
     "name": "stdout",
     "output_type": "stream",
     "text": [
      "Sending build context to Docker daemon  316.4MB\n",
      "\n",
      "Step 1/5 : FROM tiangolo/uvicorn-gunicorn-fastapi:python3.10\n",
      "python3.10: Pulling from tiangolo/uvicorn-gunicorn-fastapi\n",
      "a8ca11554fce: Pulling fs layer\n",
      "e4e46864aba2: Pulling fs layer\n",
      "c85a0be79bfb: Pulling fs layer\n",
      "195ea6a58ca8: Pulling fs layer\n",
      "157f16ed0a0c: Pulling fs layer\n",
      "884b144bec28: Pulling fs layer\n",
      "b7c6b1ad3022: Pulling fs layer\n",
      "195ea6a58ca8: Waiting\n",
      "157f16ed0a0c: Waiting\n",
      "884b144bec28: Waiting\n",
      "b7c6b1ad3022: Waiting\n",
      "c5ae41250acf: Pulling fs layer\n",
      "d1ffbfa02364: Pulling fs layer\n",
      "c5ae41250acf: Waiting\n",
      "d1ffbfa02364: Waiting\n",
      "0f16e9a58e62: Pulling fs layer\n",
      "716dbaf81df6: Pulling fs layer\n",
      "39cb9e0e9c68: Pulling fs layer\n",
      "0f16e9a58e62: Waiting\n",
      "39cb9e0e9c68: Waiting\n",
      "716dbaf81df6: Waiting\n",
      "725f733dd2e1: Pulling fs layer\n",
      "076513a15ddc: Pulling fs layer\n",
      "725f733dd2e1: Waiting\n",
      "611e9d2db4cf: Pulling fs layer\n",
      "1eb8af83bef4: Pulling fs layer\n",
      "076513a15ddc: Waiting\n",
      "1eb8af83bef4: Waiting\n",
      "9b0d74b8352e: Pulling fs layer\n",
      "b81b4ab2aed2: Pulling fs layer\n",
      "51fd64c088c1: Pulling fs layer\n",
      "4e081523daa7: Pulling fs layer\n",
      "9b0d74b8352e: Waiting\n",
      "b81b4ab2aed2: Waiting\n",
      "51fd64c088c1: Waiting\n",
      "4e081523daa7: Waiting\n",
      "e4e46864aba2: Verifying Checksum\n",
      "e4e46864aba2: Download complete\n",
      "c85a0be79bfb: Verifying Checksum\n",
      "c85a0be79bfb: Download complete\n",
      "a8ca11554fce: Verifying Checksum\n",
      "a8ca11554fce: Download complete\n",
      "195ea6a58ca8: Verifying Checksum\n",
      "195ea6a58ca8: Download complete\n",
      "884b144bec28: Verifying Checksum\n",
      "884b144bec28: Download complete\n",
      "c5ae41250acf: Verifying Checksum\n",
      "c5ae41250acf: Download complete\n",
      "d1ffbfa02364: Verifying Checksum\n",
      "d1ffbfa02364: Download complete\n",
      "0f16e9a58e62: Verifying Checksum\n",
      "0f16e9a58e62: Download complete\n",
      "716dbaf81df6: Verifying Checksum\n",
      "716dbaf81df6: Download complete\n",
      "39cb9e0e9c68: Verifying Checksum\n",
      "39cb9e0e9c68: Download complete\n",
      "725f733dd2e1: Verifying Checksum\n",
      "725f733dd2e1: Download complete\n",
      "076513a15ddc: Verifying Checksum\n",
      "076513a15ddc: Download complete\n",
      "611e9d2db4cf: Download complete\n",
      "1eb8af83bef4: Verifying Checksum\n",
      "1eb8af83bef4: Download complete\n",
      "9b0d74b8352e: Verifying Checksum\n",
      "9b0d74b8352e: Download complete\n",
      "b81b4ab2aed2: Verifying Checksum\n",
      "b81b4ab2aed2: Download complete\n",
      "b7c6b1ad3022: Verifying Checksum\n",
      "b7c6b1ad3022: Download complete\n",
      "a8ca11554fce: Pull complete\n",
      "4e081523daa7: Verifying Checksum\n",
      "4e081523daa7: Download complete\n",
      "51fd64c088c1: Verifying Checksum\n",
      "51fd64c088c1: Download complete\n",
      "e4e46864aba2: Pull complete\n",
      "c85a0be79bfb: Pull complete\n",
      "157f16ed0a0c: Verifying Checksum\n",
      "157f16ed0a0c: Download complete\n",
      "195ea6a58ca8: Pull complete\n",
      "157f16ed0a0c: Pull complete\n",
      "884b144bec28: Pull complete\n",
      "b7c6b1ad3022: Pull complete\n",
      "c5ae41250acf: Pull complete\n",
      "d1ffbfa02364: Pull complete\n",
      "0f16e9a58e62: Pull complete\n",
      "716dbaf81df6: Pull complete\n",
      "39cb9e0e9c68: Pull complete\n",
      "725f733dd2e1: Pull complete\n",
      "076513a15ddc: Pull complete\n",
      "611e9d2db4cf: Pull complete\n",
      "1eb8af83bef4: Pull complete\n",
      "9b0d74b8352e: Pull complete\n",
      "b81b4ab2aed2: Pull complete\n",
      "51fd64c088c1: Pull complete\n",
      "4e081523daa7: Pull complete\n",
      "Digest: sha256:267e1f899978a58a5cf2896c4f5fde239c7ab77899d071a30a270fad88a18ba3\n",
      "Status: Downloaded newer image for tiangolo/uvicorn-gunicorn-fastapi:python3.10\n",
      " ---> 32f40a640aff\n",
      "Step 2/5 : COPY /app/requirements.txt /app/\n",
      " ---> e32b83ab181c\n",
      "Step 3/5 : RUN pip install -r /app/requirements.txt\n",
      " ---> Running in 09d0d8cbbd4d\n",
      "Collecting pandas==1.5.2\n",
      "  Downloading pandas-1.5.2-cp310-cp310-manylinux_2_17_x86_64.manylinux2014_x86_64.whl (12.1 MB)\n",
      "     ━━━━━━━━━━━━━━━━━━━━━━━━━━━━━━━━━━━━━━━ 12.1/12.1 MB 450.0 kB/s eta 0:00:00\n",
      "Collecting joblib==1.2.0\n",
      "  Downloading joblib-1.2.0-py3-none-any.whl (297 kB)\n",
      "     ━━━━━━━━━━━━━━━━━━━━━━━━━━━━━━━━━━━━━ 298.0/298.0 kB 136.6 kB/s eta 0:00:00\n",
      "Collecting lightgbm==3.3.3\n",
      "  Downloading lightgbm-3.3.3-py3-none-manylinux1_x86_64.whl (2.0 MB)\n",
      "     ━━━━━━━━━━━━━━━━━━━━━━━━━━━━━━━━━━━━━━━━ 2.0/2.0 MB 533.5 kB/s eta 0:00:00\n",
      "Collecting category_encoders==2.5.1.post0\n",
      "  Downloading category_encoders-2.5.1.post0-py2.py3-none-any.whl (72 kB)\n",
      "     ━━━━━━━━━━━━━━━━━━━━━━━━━━━━━━━━━━━━━━━━ 72.4/72.4 kB 95.5 kB/s eta 0:00:00\n",
      "Requirement already satisfied: fastapi==0.88.0 in /usr/local/lib/python3.10/site-packages (from -r /app/requirements.txt (line 5)) (0.88.0)\n",
      "Requirement already satisfied: uvicorn==0.20.0 in /usr/local/lib/python3.10/site-packages (from -r /app/requirements.txt (line 6)) (0.20.0)\n",
      "Collecting scikit_learn==1.1.2\n",
      "  Downloading scikit_learn-1.1.2-cp310-cp310-manylinux_2_17_x86_64.manylinux2014_x86_64.whl (30.5 MB)\n",
      "     ━━━━━━━━━━━━━━━━━━━━━━━━━━━━━━━━━━━━━━━ 30.5/30.5 MB 470.6 kB/s eta 0:00:00\n",
      "Collecting numpy>=1.21.0\n",
      "  Downloading numpy-1.23.5-cp310-cp310-manylinux_2_17_x86_64.manylinux2014_x86_64.whl (17.1 MB)\n",
      "     ━━━━━━━━━━━━━━━━━━━━━━━━━━━━━━━━━━━━━━━ 17.1/17.1 MB 532.7 kB/s eta 0:00:00\n",
      "Collecting pytz>=2020.1\n",
      "  Downloading pytz-2022.6-py2.py3-none-any.whl (498 kB)\n",
      "     ━━━━━━━━━━━━━━━━━━━━━━━━━━━━━━━━━━━━━ 498.1/498.1 kB 743.0 kB/s eta 0:00:00\n",
      "Collecting python-dateutil>=2.8.1\n",
      "  Downloading python_dateutil-2.8.2-py2.py3-none-any.whl (247 kB)\n",
      "     ━━━━━━━━━━━━━━━━━━━━━━━━━━━━━━━━━━━━━ 247.7/247.7 kB 248.1 kB/s eta 0:00:00\n",
      "Collecting scipy\n",
      "  Downloading scipy-1.9.3-cp310-cp310-manylinux_2_17_x86_64.manylinux2014_x86_64.whl (33.7 MB)\n",
      "     ━━━━━━━━━━━━━━━━━━━━━━━━━━━━━━━━━━━━━━━ 33.7/33.7 MB 413.3 kB/s eta 0:00:00\n",
      "Requirement already satisfied: wheel in /usr/local/lib/python3.10/site-packages (from lightgbm==3.3.3->-r /app/requirements.txt (line 3)) (0.38.4)\n",
      "Collecting statsmodels>=0.9.0\n",
      "  Downloading statsmodels-0.13.5-cp310-cp310-manylinux_2_17_x86_64.manylinux2014_x86_64.whl (9.9 MB)\n",
      "     ━━━━━━━━━━━━━━━━━━━━━━━━━━━━━━━━━━━━━━━━ 9.9/9.9 MB 769.2 kB/s eta 0:00:00\n",
      "Collecting patsy>=0.5.1\n",
      "  Downloading patsy-0.5.3-py2.py3-none-any.whl (233 kB)\n",
      "     ━━━━━━━━━━━━━━━━━━━━━━━━━━━━━━━━━━━━━ 233.8/233.8 kB 270.6 kB/s eta 0:00:00\n",
      "Requirement already satisfied: pydantic!=1.7,!=1.7.1,!=1.7.2,!=1.7.3,!=1.8,!=1.8.1,<2.0.0,>=1.6.2 in /usr/local/lib/python3.10/site-packages (from fastapi==0.88.0->-r /app/requirements.txt (line 5)) (1.10.2)\n",
      "Requirement already satisfied: starlette==0.22.0 in /usr/local/lib/python3.10/site-packages (from fastapi==0.88.0->-r /app/requirements.txt (line 5)) (0.22.0)\n",
      "Requirement already satisfied: click>=7.0 in /usr/local/lib/python3.10/site-packages (from uvicorn==0.20.0->-r /app/requirements.txt (line 6)) (8.1.3)\n",
      "Requirement already satisfied: h11>=0.8 in /usr/local/lib/python3.10/site-packages (from uvicorn==0.20.0->-r /app/requirements.txt (line 6)) (0.14.0)\n",
      "Collecting threadpoolctl>=2.0.0\n",
      "  Downloading threadpoolctl-3.1.0-py3-none-any.whl (14 kB)\n",
      "Requirement already satisfied: anyio<5,>=3.4.0 in /usr/local/lib/python3.10/site-packages (from starlette==0.22.0->fastapi==0.88.0->-r /app/requirements.txt (line 5)) (3.6.2)\n",
      "Requirement already satisfied: six in /usr/local/lib/python3.10/site-packages (from patsy>=0.5.1->category_encoders==2.5.1.post0->-r /app/requirements.txt (line 4)) (1.16.0)\n",
      "Requirement already satisfied: typing-extensions>=4.1.0 in /usr/local/lib/python3.10/site-packages (from pydantic!=1.7,!=1.7.1,!=1.7.2,!=1.7.3,!=1.8,!=1.8.1,<2.0.0,>=1.6.2->fastapi==0.88.0->-r /app/requirements.txt (line 5)) (4.4.0)\n",
      "Collecting packaging>=21.3\n",
      "  Downloading packaging-22.0-py3-none-any.whl (42 kB)\n",
      "     ━━━━━━━━━━━━━━━━━━━━━━━━━━━━━━━━━━━━━━━━ 42.6/42.6 kB 66.0 kB/s eta 0:00:00\n",
      "Requirement already satisfied: sniffio>=1.1 in /usr/local/lib/python3.10/site-packages (from anyio<5,>=3.4.0->starlette==0.22.0->fastapi==0.88.0->-r /app/requirements.txt (line 5)) (1.3.0)\n",
      "Requirement already satisfied: idna>=2.8 in /usr/local/lib/python3.10/site-packages (from anyio<5,>=3.4.0->starlette==0.22.0->fastapi==0.88.0->-r /app/requirements.txt (line 5)) (3.4)\n",
      "Installing collected packages: pytz, threadpoolctl, python-dateutil, packaging, numpy, joblib, scipy, patsy, pandas, statsmodels, scikit_learn, lightgbm, category_encoders\n",
      "Successfully installed category_encoders-2.5.1.post0 joblib-1.2.0 lightgbm-3.3.3 numpy-1.23.5 packaging-22.0 pandas-1.5.2 patsy-0.5.3 python-dateutil-2.8.2 pytz-2022.6 scikit_learn-1.1.2 scipy-1.9.3 statsmodels-0.13.5 threadpoolctl-3.1.0\n",
      "\u001b[91mWARNING: Running pip as the 'root' user can result in broken permissions and conflicting behaviour with the system package manager. It is recommended to use a virtual environment instead: https://pip.pypa.io/warnings/venv\n",
      "\u001b[0m\u001b[91m\n",
      "[notice] A new release of pip available: 22.2.2 -> 22.3.1\n",
      "[notice] To update, run: pip install --upgrade pip\n",
      "\u001b[0mRemoving intermediate container 09d0d8cbbd4d\n",
      " ---> 0a65d0ca038a\n",
      "Step 4/5 : COPY ./model /model/\n",
      " ---> 869f62558908\n",
      "Step 5/5 : COPY ./app /app\n",
      " ---> 643c797fac43\n",
      "Successfully built 643c797fac43\n",
      "Successfully tagged shoab02/stud_bud:1.0.1\n",
      "SECURITY WARNING: You are building a Docker image from Windows against a non-Windows Docker host. All files and directories added to build context will have '-rwxr-xr-x' permissions. It is recommended to double check and reset permissions for sensitive files and directories.\n"
     ]
    },
    {
     "name": "stderr",
     "output_type": "stream",
     "text": [
      "\n",
      "Use 'docker scan' to run Snyk tests against images to find vulnerabilities and learn how to fix them\n"
     ]
    }
   ],
   "source": [
    "docker_username = 'shoab02'\n",
    "\n",
    "!docker build -t {docker_username}/stud_bud:1.0.1 .\n"
   ]
  },
  {
   "cell_type": "code",
   "execution_count": 19,
   "metadata": {},
   "outputs": [
    {
     "name": "stdout",
     "output_type": "stream",
     "text": [
      "The push refers to repository [docker.io/shoab02/stud_bud]\n",
      "5b51359bb255: Preparing\n",
      "dbb1027854c7: Preparing\n",
      "c4504170475e: Preparing\n",
      "2ecd0db826a6: Preparing\n",
      "7c9c9acec2a4: Preparing\n",
      "7d9bf72799c2: Preparing\n",
      "98f3cde76d6e: Preparing\n",
      "7d9bf72799c2: Waiting\n",
      "751acdff2894: Preparing\n",
      "10c6cc0669b6: Preparing\n",
      "57830a939b31: Preparing\n",
      "e85a644d15a1: Preparing\n",
      "98f3cde76d6e: Waiting\n",
      "751acdff2894: Waiting\n",
      "c82b95a33509: Preparing\n",
      "5ffece38ff56: Preparing\n",
      "cef2a530901e: Preparing\n",
      "c8086eda0f66: Preparing\n",
      "5183217745a1: Preparing\n",
      "905ede8abeca: Preparing\n",
      "63ab2579942e: Preparing\n",
      "e6e9854ca999: Preparing\n",
      "397a239a053b: Preparing\n",
      "89c3244a87b2: Preparing\n",
      "80231db1194c: Preparing\n",
      "f1c1f2298584: Preparing\n",
      "10c6cc0669b6: Waiting\n",
      "57830a939b31: Waiting\n",
      "c82b95a33509: Waiting\n",
      "5ffece38ff56: Waiting\n",
      "cef2a530901e: Waiting\n",
      "c8086eda0f66: Waiting\n",
      "397a239a053b: Waiting\n",
      "89c3244a87b2: Waiting\n",
      "80231db1194c: Waiting\n",
      "5183217745a1: Waiting\n",
      "905ede8abeca: Waiting\n",
      "63ab2579942e: Waiting\n",
      "ccba29d69370: Preparing\n",
      "f1c1f2298584: Waiting\n",
      "ccba29d69370: Waiting\n",
      "e6e9854ca999: Waiting\n",
      "7c9c9acec2a4: Layer already exists\n",
      "dbb1027854c7: Layer already exists\n",
      "5b51359bb255: Layer already exists\n",
      "2ecd0db826a6: Layer already exists\n",
      "98f3cde76d6e: Layer already exists\n",
      "7d9bf72799c2: Layer already exists\n",
      "751acdff2894: Layer already exists\n",
      "10c6cc0669b6: Layer already exists\n",
      "57830a939b31: Layer already exists\n",
      "e85a644d15a1: Layer already exists\n",
      "c82b95a33509: Layer already exists\n",
      "5ffece38ff56: Layer already exists\n",
      "5183217745a1: Layer already exists\n",
      "cef2a530901e: Layer already exists\n",
      "c8086eda0f66: Layer already exists\n",
      "905ede8abeca: Layer already exists\n",
      "89c3244a87b2: Layer already exists\n",
      "e6e9854ca999: Layer already exists\n",
      "397a239a053b: Layer already exists\n",
      "63ab2579942e: Layer already exists\n",
      "80231db1194c: Layer already exists\n",
      "ccba29d69370: Layer already exists\n",
      "f1c1f2298584: Layer already exists\n",
      "c4504170475e: Retrying in 5 seconds\n",
      "c4504170475e: Retrying in 4 seconds\n",
      "c4504170475e: Retrying in 3 seconds\n",
      "c4504170475e: Retrying in 2 seconds\n",
      "c4504170475e: Retrying in 1 second\n",
      "c4504170475e: Retrying in 10 seconds\n",
      "c4504170475e: Retrying in 9 seconds\n",
      "c4504170475e: Retrying in 8 seconds\n",
      "c4504170475e: Retrying in 7 seconds\n",
      "c4504170475e: Retrying in 6 seconds\n",
      "c4504170475e: Retrying in 5 seconds\n",
      "c4504170475e: Retrying in 4 seconds\n",
      "c4504170475e: Retrying in 3 seconds\n",
      "c4504170475e: Retrying in 2 seconds\n",
      "c4504170475e: Retrying in 1 second\n",
      "c4504170475e: Retrying in 15 seconds\n",
      "c4504170475e: Retrying in 14 seconds\n",
      "c4504170475e: Retrying in 13 seconds\n",
      "c4504170475e: Retrying in 12 seconds\n",
      "c4504170475e: Retrying in 11 seconds\n",
      "c4504170475e: Retrying in 10 seconds\n",
      "c4504170475e: Retrying in 9 seconds\n",
      "c4504170475e: Retrying in 8 seconds\n",
      "c4504170475e: Retrying in 7 seconds\n",
      "c4504170475e: Retrying in 6 seconds\n",
      "c4504170475e: Retrying in 5 seconds\n",
      "c4504170475e: Retrying in 4 seconds\n",
      "c4504170475e: Retrying in 3 seconds\n",
      "c4504170475e: Retrying in 2 seconds\n",
      "c4504170475e: Retrying in 1 second\n",
      "c4504170475e: Pushed\n",
      "1.0.1: digest: sha256:ba0a0d8c66b98ff12f40f758b4b24c5b59a1d19ef9905ce86d20ed987f0894e1 size: 5343\n"
     ]
    }
   ],
   "source": [
    "\n",
    "!docker push {docker_username}/stud_bud:1.0.1"
   ]
  },
  {
   "cell_type": "code",
   "execution_count": null,
   "metadata": {},
   "outputs": [],
   "source": []
  },
  {
   "cell_type": "code",
   "execution_count": null,
   "metadata": {},
   "outputs": [],
   "source": [
    "#1.0.1: digest: sha256:9d6fdf233d547abdbd64c171a30f7bd0947bc09ebeb7ed68988a682521698f9c size: 5343\n"
   ]
  },
  {
   "cell_type": "code",
   "execution_count": 20,
   "metadata": {},
   "outputs": [
    {
     "name": "stdout",
     "output_type": "stream",
     "text": [
      "50289e416b9b832f7ea09fdc05b41ae012f7de1a8d7345efee2b614c0f10756e\n"
     ]
    }
   ],
   "source": [
    "!docker run --name stud-bud-server -d -p 80:80 -e WORKERS_PER_CORE=\"3\" {docker_username}/stud_bud:1.0.1\n"
   ]
  },
  {
   "cell_type": "code",
   "execution_count": null,
   "metadata": {},
   "outputs": [],
   "source": [
    "#88219120ec5880bd887a1a5777394d987b17368cd24e5557ffe39ac2447cfd7b\n",
    "#2970d00217bc12c7bb0fd6897ebd1e49c91d5b4e6209cf42b8d4ee2f8852e3ed\n"
   ]
  },
  {
   "cell_type": "code",
   "execution_count": 22,
   "metadata": {},
   "outputs": [
    {
     "name": "stdout",
     "output_type": "stream",
     "text": [
      "Checking for script in /app/prestart.sh\n",
      "Running script /app/prestart.sh\n",
      "Running inside /app/prestart.sh, you could add migrations to this file, e.g.:\n",
      "\n",
      "#! /usr/bin/env bash\n",
      "\n",
      "# Let the DB start\n",
      "sleep 10;\n",
      "# Run migrations\n",
      "alembic upgrade head\n",
      "\n"
     ]
    }
   ],
   "source": [
    "!docker logs 50289e416b9"
   ]
  },
  {
   "cell_type": "code",
   "execution_count": 23,
   "metadata": {},
   "outputs": [
    {
     "name": "stdout",
     "output_type": "stream",
     "text": [
      "^C\n"
     ]
    }
   ],
   "source": [
    "!docker scan 50289e416b9b832f7ea09fdc05b41ae012f7de1a8d7345efee2b614c0f10756e"
   ]
  },
  {
   "cell_type": "code",
   "execution_count": 11,
   "metadata": {},
   "outputs": [
    {
     "name": "stdout",
     "output_type": "stream",
     "text": [
      "{\"detail\":\"Not Found\"}\n"
     ]
    }
   ],
   "source": [
    "import requests\n",
    "\n",
    "data = {\n",
    "  \"sl_no\": 2,\n",
    "  \"ssc_p\": 65.0,\n",
    "  \"hsc_p\": 68.0,\n",
    "  \"degree_p\": 64.0,\n",
    "  \"etest_p\": 0,\n",
    "  \"mba_p\": 57.8,\n",
    "  \"gender\": \"M\",\n",
    "  \"ssc_b\": \"Central\",\n",
    "  \"hsc_b\": \"Central\",\n",
    "  \"hsc_s\": \"Arts\",\n",
    "  \"degree_t\": \"Comm&Mgmt\",\n",
    "  \"workex\": \"No\",\n",
    "  \"specialisation\": \"Mkt&Fin\"\n",
    "}\n",
    "\n",
    "response = requests.post('http://127.0.0.1:80/predict',json=data, verify=False)\n",
    "print((response.text)[16:-3])\n"
   ]
  },
  {
   "cell_type": "code",
   "execution_count": 12,
   "metadata": {},
   "outputs": [
    {
     "name": "stdout",
     "output_type": "stream",
     "text": [
      "88219120ec58\n"
     ]
    }
   ],
   "source": [
    "\n",
    "\n",
    "!docker stop 50289e416b9b832f7ea09fdc05b41ae012f7de1a8d7345efee2b614c0f10756e"
   ]
  }
 ],
 "metadata": {
  "kernelspec": {
   "display_name": "Python 3",
   "language": "python",
   "name": "python3"
  },
  "language_info": {
   "codemirror_mode": {
    "name": "ipython",
    "version": 3
   },
   "file_extension": ".py",
   "mimetype": "text/x-python",
   "name": "python",
   "nbconvert_exporter": "python",
   "pygments_lexer": "ipython3",
   "version": "3.10.7"
  },
  "orig_nbformat": 4,
  "vscode": {
   "interpreter": {
    "hash": "f43b2bf679cad886ce19956f73f3f069b32b22a239fa70703516e7cb1b97f312"
   }
  }
 },
 "nbformat": 4,
 "nbformat_minor": 2
}
