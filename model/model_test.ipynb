{
 "cells": [
  {
   "cell_type": "code",
   "execution_count": 5,
   "id": "a05098ee",
   "metadata": {},
   "outputs": [],
   "source": [
    "\n",
    "import numpy as np\n",
    "import pandas as pd\n",
    "import joblib"
   ]
  },
  {
   "cell_type": "code",
   "execution_count": 8,
   "id": "2d199d68",
   "metadata": {},
   "outputs": [],
   "source": [
    "encoder  = joblib.load('../model/encoder.joblib')\n",
    "clf = joblib.load('../model/lgb_model.joblib')\n",
    "numerical_features = joblib.load('../model/numerical_features.joblib')\n",
    "categorical_features = joblib.load('../model/categorical_features.joblib')"
   ]
  },
  {
   "cell_type": "code",
   "execution_count": 3,
   "id": "78a76618",
   "metadata": {},
   "outputs": [],
   "source": [
    "data ={\n",
    "  \"sl_no\": 2,\n",
    "  \"ssc_p\": 65.0,\n",
    "  \"hsc_p\": 68.0,\n",
    "  \"degree_p\": 64.0,\n",
    "  \"etest_p\": 0,\n",
    "  \"mba_p\": 57.8,\n",
    "  \"gender\": \"M\",\n",
    "  \"ssc_b\": \"Central\",\n",
    "  \"hsc_b\": \"Central\",\n",
    "  \"hsc_s\": \"Arts\",\n",
    "  \"degree_t\": \"Comm&Mgmt\",\n",
    "  \"workex\": \"No\",\n",
    "  \"specialisation\": \"Mkt&Fin\"\n",
    "}"
   ]
  },
  {
   "cell_type": "code",
   "execution_count": 11,
   "id": "dfe4bf22",
   "metadata": {},
   "outputs": [
    {
     "data": {
      "text/plain": [
       "0"
      ]
     },
     "execution_count": 11,
     "metadata": {},
     "output_type": "execute_result"
    }
   ],
   "source": [
    "\n",
    "\n",
    "data_df = pd.DataFrame.from_dict([data])\n",
    "\n",
    "features = np.concatenate((categorical_features,numerical_features))\n",
    "\n",
    "#prepare df for prediction\n",
    "data_df = data_df[features]\n",
    "\n",
    "#preprocess - OneHotEncoding for cat_cols\n",
    "data_df_cat = encoder.transform(data_df[categorical_features])\n",
    "\n",
    "\n",
    "df_final = np.concatenate((data_df_cat.toarray(),data_df[numerical_features].to_numpy()),axis=1)\n",
    "\n",
    "# Create prediction\n",
    "prediction = clf.predict(df_final)\n",
    "\n",
    "#map the pred to label\n",
    "# prediction_label = ['Placed' if label == 0 else 'Not Placed' for label in prediction ]\n",
    "\n",
    "prediction[0]"
   ]
  },
  {
   "cell_type": "code",
   "execution_count": null,
   "id": "99730be5",
   "metadata": {},
   "outputs": [],
   "source": []
  }
 ],
 "metadata": {
  "kernelspec": {
   "display_name": "Python 3 (ipykernel)",
   "language": "python",
   "name": "python3"
  },
  "language_info": {
   "codemirror_mode": {
    "name": "ipython",
    "version": 3
   },
   "file_extension": ".py",
   "mimetype": "text/x-python",
   "name": "python",
   "nbconvert_exporter": "python",
   "pygments_lexer": "ipython3",
   "version": "3.10.7"
  }
 },
 "nbformat": 4,
 "nbformat_minor": 5
}
